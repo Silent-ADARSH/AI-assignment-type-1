{
 "cells": [
  {
   "cell_type": "code",
   "execution_count": null,
   "id": "254ef262",
   "metadata": {},
   "outputs": [
    {
     "name": "stdout",
     "output_type": "stream",
     "text": [
      "Welcome to PNB\n",
      "\n",
      "Insert your card\n",
      "Enter your 4 digit pin2001\n",
      "PIN incorrect!!!! please retry.\n",
      "Enter your 4 digit pin21223\n",
      "PIN incorrect!!!! please retry.\n",
      "Enter your 4 digit pin33132\n",
      "PIN incorrect!!!! please retry.\n",
      "Transaction Cancelled,RETRY\n"
     ]
    }
   ],
   "source": [
    "print(\"Welcome to PNB\\n\\nInsert your card\")\n",
    "password=2004\n",
    "\n",
    "choice=0\n",
    "Amount=0\n",
    "MONEY=0\n",
    "for i in range(3):\n",
    "    pin=int(input(\"Enter your 4 digit pin\"))\n",
    "    if pin==password:\n",
    "        print(\"pin confirmed!\")\n",
    "        print(\"What DO YOU WANT TO do?\")\n",
    "        print(\"1 == balance\")\n",
    "        print(\"2 == deposit\")\n",
    "        print(\"3 == withdraw\")\n",
    "        print(\"4 == cancel\")\n",
    "        break\n",
    "\n",
    "    else:\n",
    "        print(\"PIN incorrect!!!! please retry.\")\n",
    "\n",
    "    if i==2:\n",
    "        print(\"Transaction Cancelled,RETRY\")\n",
    "        exit()\n",
    "    \n",
    "choice = int(input(\"Kindly select your choice\\n\"))\n",
    "if choice == 1: \n",
    "    print(\"your current balance is 10000 rupees\")\n",
    "    \n",
    "elif choice == 2:\n",
    "    print(\"enter the amount you want to deposit\")\n",
    "    Amount = int(input(\"amount->\"))\n",
    "    b= 10000+Amount\n",
    "    print(\"thankyou for your transaction\\nyour current balance is\\n\")\n",
    "    print(b)\n",
    "    \n",
    "elif choice == 3:\n",
    "    print(\"enter the amount you want to withdraw\")\n",
    "    MONEY = int(input(\"amount to withdraw->\"))\n",
    "    c=10000-MONEY\n",
    "    print(\"thankyou for your transaction\\nyour current balance is\\n\")\n",
    "    print(c)\n",
    "    \n",
    "elif choice == 4:\n",
    "    print(\" TRANSACTION COMPLETED\\n\\nYOU CAN REMOVE YOUR CARD\")\n",
    "\n"
   ]
  },
  {
   "cell_type": "code",
   "execution_count": null,
   "id": "7ffe0174",
   "metadata": {},
   "outputs": [],
   "source": []
  }
 ],
 "metadata": {
  "kernelspec": {
   "display_name": "Python 3 (ipykernel)",
   "language": "python",
   "name": "python3"
  },
  "language_info": {
   "codemirror_mode": {
    "name": "ipython",
    "version": 3
   },
   "file_extension": ".py",
   "mimetype": "text/x-python",
   "name": "python",
   "nbconvert_exporter": "python",
   "pygments_lexer": "ipython3",
   "version": "3.10.9"
  }
 },
 "nbformat": 4,
 "nbformat_minor": 5
}
